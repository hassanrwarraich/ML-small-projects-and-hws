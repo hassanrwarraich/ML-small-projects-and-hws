{
  "nbformat": 4,
  "nbformat_minor": 0,
  "metadata": {
    "accelerator": "GPU",
    "colab": {
      "name": "hw3ML.ipynb",
      "provenance": [],
      "collapsed_sections": []
    },
    "kernelspec": {
      "display_name": "Python 3",
      "name": "python3"
    }
  },
  "cells": [
    {
      "cell_type": "markdown",
      "metadata": {
        "id": "KDSS2c_hXISc"
      },
      "source": [
        "**<h1><center>CS 464</center></h1>**\n",
        "**<h1><center>Introduction to Machine Learning</center></h1>**\n",
        "**<h1><center>Fall 2020</center></h1>**\n",
        "**<h1><center>Homework 3</center></h1>**\n",
        "<h4><center>Due: Jan 03, 2021 23:59 (GMT+3)</center></h4>"
      ]
    },
    {
      "cell_type": "markdown",
      "metadata": {
        "id": "W5qurNR3XkKT"
      },
      "source": [
        "### Instructions\n",
        "\n",
        "<ul>\n",
        "    <li>\n",
        "    This homework contains both written and programming questions about neural networks. You should implement programming questions on this notebook. Your plots should also be produced in this notebook. Each programming question has its own cell for your answer. You can implement your code directly in these cells, or you can call required functions which are defined in a different location for the given question.\n",
        "    </li>\n",
        "    <li>\n",
        "    For questions that you need to plot, your plot results have to be included in the cell output. For written questions, you may provide them either as comments in code cells or as seperate text cells. \n",
        "    </li>\n",
        "    <li>\n",
        "    You are <b>NOT ALLOWED</b> to use different libraries than given libraries in the code segments of this homework except for libraries inclueded in Python Standard Library (https://docs.python.org/3/library/).\n",
        "    </li>\n",
        "    <li>\n",
        "    You are <b>NOT ALLOWED</b> to use a different deep learning framework than PyTorch.\n",
        "    </li>\n",
        "    <li>\n",
        "    While submitting the homework file, please package notebook(\".ipynb\") and model (\".pth\") files as a gzipped TAR file or a ZIP file with the name cs464_hw3_section#_Firstname_Lastname. Please do not use any Turkish letters for any of your files including code files and model files. Upload your homework to Moodle.\n",
        "    </li>\n",
        "    <li>\n",
        "    This is an individual assignment for each student. That is, you are NOT allowed to share your work with your classmates.</li>\n",
        "    <li> \n",
        "    If you do not follow the submission routes, deadlines and specifications, it will lead to a significant grade deduction.\n",
        "    </li>\n",
        "    <li> \n",
        "    If you have any questions, please contact \"ilaydabeyreli@gmail.com\" or \"ilayda.beyreli@bilkent.edu.tr\".\n",
        "    </li>\n",
        "\n",
        "</ul>"
      ]
    },
    {
      "cell_type": "markdown",
      "metadata": {
        "id": "9d7BOVodYiGe"
      },
      "source": [
        "## Environment Setup"
      ]
    },
    {
      "cell_type": "markdown",
      "metadata": {
        "id": "EPlCx2GsYnHS"
      },
      "source": [
        "This homewrok is prepeared by using Google CoLab which already has required libraries. However, if you are using your own local Jupyter or any other Python notebook editor, you may use both anaconda or pip to install PyTorch to your own computer."
      ]
    },
    {
      "cell_type": "markdown",
      "metadata": {
        "id": "LM4dpplWZBGS"
      },
      "source": [
        "### Anaconda Installation\n",
        "\n",
        "<ul>\n",
        "    <li>Download anaconda from https://www.anaconda.com/download</li>\n",
        "    <li>Follow the instructions provided in https://conda.io/docs/user-guide/install/index.html#regular-installation</li>\n",
        "</ul>\n",
        "\n",
        "#### Creation of Virtual Environment\n",
        "\n",
        "<ul>\n",
        "    <li>Create python3.7 virtual environment for your hw3 using follow command from the command line<br>\n",
        "        <i>> conda create -n HW3 python=3.7 anaconda</i></li>\n",
        "    <li>Activate your virtual environment<br>\n",
        "        <i>> source activate HW3</i></li>\n",
        "    <li>To install auxiliary libraries, replace the \"package_name\" in the following command and run it in activated \"hw3\" environment <br>\n",
        "        <i>> pip install \"pacakge_name\"<i></li>\n",
        "     <li>When you create your virtual environment with \"anaconda\" metapackage, jupyter notebook should be installed. Try:<br>\n",
        "         <i>> jupyter notebook</i>\n",
        "</ul>\n",
        "\n",
        "\n",
        "#### Pytorch Installation with Anaconda\n",
        "\n",
        "You should install PyTorch to your virtual environment which is created for the hw3. Therefore, you should activate your homework virtual environment before to start PyTorch installation.\n",
        "<li>> source activate HW3</li>\n",
        "\n",
        "After you have activated the virtual environment, then use one of the following commands to install pytorch for CPU for your system. See https://pytorch.org/ for help.\n",
        "<ul>\n",
        "<li>For MacOS:<br>\n",
        "    <i>> conda install pytorch torchvision -c pytorch</i>\n",
        "</li>\n",
        "<li>For Linux:<br>\n",
        "    <i>> conda install pytorch-cpu torchvision-cpu -c pytorch</i>\n",
        "</li>\n",
        "<li>For Windows:<br>\n",
        "    <i>> conda install pytorch-cpu torchvision-cpu -c pytorch</i><br>\n",
        "</li>"
      ]
    },
    {
      "cell_type": "markdown",
      "metadata": {
        "id": "AVlcWIXEZZGO"
      },
      "source": [
        "###Pip3 Installation\n",
        "<ul>\n",
        "    <li>Download pip3 from https://pip.pypa.io/en/stable/installing/</li>\n",
        "    <li>If you are using Windows, you may need to add Python to your enviroment variables. You may use the following tutorial to install Python and pip.\n",
        "    https://phoenixnap.com/kb/how-to-install-python-3-windows</li>\n",
        "</ul>\n",
        "\n",
        "#### PyTorch Installation with Pip\n",
        "<ul>\n",
        "<li>For MacOS:<br>\n",
        "    <i>> pip3 install torch torchvision</i>\n",
        "</li>\n",
        "<li>For Linux:<br>\n",
        "    <i>> pip3 install torch==1.3.1+cpu torchvision==0.4.2+cpu -f https://download.pytorch.org/whl/torch_stable.html</i>\n",
        "</li>\n",
        "<li>For Windows:<br>\n",
        "    <i>> pip3 install torch==1.3.1+cpu torchvision==0.4.2+cpu -f https://download.pytorch.org/whl/torch_stable.html</i><br>\n",
        "</li>\n"
      ]
    },
    {
      "cell_type": "markdown",
      "metadata": {
        "id": "I0CsUtpmZmBk"
      },
      "source": [
        "##Question 1 [12 pts.]\n",
        "\n",
        "Answer the given questions with **at most a sentence**.\n",
        "\n",
        "  >a) What is one reason not to use the same data for both your training set and your testing set?<br>\n",
        "In this case we would obtain a model that overfits the test dataset. It will kind of memorize the answers and give good result on current test data but might not work on other datasets. <br>\n",
        "\n",
        "  >b) Why is it important for machine learning algorithms to have access to high-quality(large and accurate enough) data ?<br>\n",
        "  This is because our algorithms are learning using this data if we dont have accurate data, model will learn wrong things and if data is small it would not be enough to learn.<br>\n",
        "\n",
        "  >c) What is the main motivation for using activation functions in artificial neural networks (ANNs)?<br>\n",
        "  Actication function helps model in learning complex data patterns. It uses input values and makes intermediate values which are then used to make output. Due to these intermediate values learning becomes easier.<br>\n",
        "\n",
        "  >d) The activations for class A, B and C before softmax were 12, 7 and 4. What would be the softmax values for class A and class B?<br>\n",
        "  The softmax values for A and B would be 12 and 7 respectiveely.<br>\n",
        "\n",
        "  >e) What does it mean to underfit your data model?<br>\n",
        "  The model is underfitting if it performs poorly on training dataset. This could mean model is not able to understand the relationship between input and output.<br>\n",
        "\n",
        "  >f) Consider you have a 14 class classification problem. What would be the probability of random guess?<br>\n",
        "  The probablity of correct answer would be 1/14 = 0.0714 <br>\n",
        "\n",
        "\n"
      ]
    },
    {
      "cell_type": "markdown",
      "metadata": {
        "id": "fnAVhRr4eTPo"
      },
      "source": [
        "##Question 2 [88 pts.]"
      ]
    },
    {
      "cell_type": "markdown",
      "metadata": {
        "id": "GnaXgIskP6iY"
      },
      "source": [
        "Computer vision (CV) is the field of study that deals with how computers can gain high-level understanding from digital images or videos. Your task for this question is to classify cats according to their breeds by using simple machine learning algorithms developed for CV problems on cat images.\n",
        "\n",
        "Your dataset consist of XXX cat images from 15 breeds. Images of each breed is stored under separate folders in the compressed file given to you.  The dataset has been processed in such a way that each class has approximately 1900 samples.\n",
        "\n",
        "Download the dataset from the following link:\n",
        "<br>\n",
        "https://drive.google.com/.....\n",
        "<br>\n",
        "\n",
        "Libraries that are required in this question is given in the following code cell."
      ]
    },
    {
      "cell_type": "code",
      "metadata": {
        "colab": {
          "base_uri": "https://localhost:8080/"
        },
        "id": "Z37KSYkSXHtz",
        "outputId": "1b1f241b-e6f6-4c01-ad1e-f9fea4f1b1a6"
      },
      "source": [
        "###########\n",
        "#answers to questions are given in same text cell as the questions\n",
        "###########\n",
        "\n",
        "# Mount Google Drive\n",
        "from google.colab import drive\n",
        "drive.mount('/content/drive')\n",
        "# PyTorch\n",
        "import torch\n",
        "import torch.nn as nn\n",
        "import torch.nn.functional as F\n",
        "# To Read Data\n",
        "from torch.utils.data import Dataset, DataLoader\n",
        "import numpy as np\n",
        "from PIL import Image\n",
        "# To Interpret results & obtain plots\n",
        "from sklearn.model_selection import train_test_split\n",
        "from sklearn.metrics import confusion_matrix, f1_score, precision_score, recall_score, accuracy_score\n",
        "import matplotlib.pyplot as plt\n",
        "from zipfile import ZipFile\n",
        "\n",
        "with ZipFile('/content/drive/MyDrive/cs464_hw3.zip', 'r') as zipObj:\n",
        "  zipObj.extractall()\n",
        "# You could add your own libraries form Python Standard Library in this cell. Any other external libraries are not allowed."
      ],
      "execution_count": 1,
      "outputs": [
        {
          "output_type": "stream",
          "text": [
            "Mounted at /content/drive\n"
          ],
          "name": "stdout"
        }
      ]
    },
    {
      "cell_type": "markdown",
      "metadata": {
        "id": "Kkd-WIVwTQsn"
      },
      "source": [
        "### Data Loader [8 pts.]\n",
        "\n",
        "An important part of such a task is to implement your own data loader. In this homework, a partial loader is provided to you. This loader is going to be based on a base class named \"Dataset\", provided in PyTorch library. You need to complete the code below to create your custom \"CatsDataset\" class which will be able to load your dataset. Implement the functions whose proptotypes are given. Follow the TODO notes below. You have to divide the files into three sets as <b>train (70%)</b>, \n",
        "<b>validation (10%)</b> and **test (20%)** sets.  These non-overlapping splits, which are subsets of CatsDataset, should be retrieved using the \"get_dataset\" function. Since this data loader will be called to get the input for different models, your function should work in a least two modes:\n",
        "1. To be compatible with MLP, you need to resize the image to 64x64x3 to have consistent input size for all images. Then, you should convert your image to grayscale and flatten it into a vector. Note that the pixel values also needs to be normalized to [0,1] range.\n",
        "<br>\n",
        "2. To be compatible with CNN, you need to resize the image to 64x64x3 to have consistent input size for all images. Note that, you **should not** flatten the image or convert it to grayscale in this mode, i.e. all channels of the images should be included and each image should be stored as a matrix.\n",
        "\n",
        "Hint: The dataset is not normalized and your results will heavily depend on your input."
      ]
    },
    {
      "cell_type": "code",
      "metadata": {
        "id": "x9fac_LpYdXE"
      },
      "source": [
        "\n",
        "\n",
        "class CatsDataset(Dataset):\n",
        "    # TODO:\n",
        "    # Define constructor for SVHNDataset class\n",
        "    # HINT: You can pass processed data samples and their ground truth values as parameters \n",
        "    def __init__(self, data, labels): # you are free to change parameters\n",
        "        self.data = torch.FloatTensor(data.astype('float')).cuda()\n",
        "        self.labels = torch.FloatTensor(labels.astype('int')).cuda()\n",
        "        #self.data = data\n",
        "        #self.labels = labels\n",
        "    '''This function should return sample count in the dataset'''\n",
        "    def __len__(self):\n",
        "        return self.data.shape[0]\n",
        "\n",
        "    '''This function should return a single sample and its ground truth value from the dataset corresponding to index parameter '''\n",
        "    def __getitem__(self, index):\n",
        "        return self.data[index,:], self.labels[index]\n",
        "\n",
        "\n"
      ],
      "execution_count": 2,
      "outputs": []
    },
    {
      "cell_type": "code",
      "metadata": {
        "id": "vE3b0p2IWrdo"
      },
      "source": [
        "import os\n",
        "from  sklearn.utils import shuffle\n",
        "import cv2\n",
        "\n",
        "#mode 0 for CNN mode 1 for MLP\n",
        "def get_dataset(root, mode):\n",
        "#root = \"data\"\n",
        "#mode = 1\n",
        "  lab = 0\n",
        "  processed_data = []\n",
        "  processed_labels = []\n",
        "  for filename in os.listdir(root):\n",
        "    for newname in os.listdir(os.path.join(root,filename)):\n",
        "      img = np.array(Image.open(os.path.join(root, os.path.join(filename, newname))))\n",
        "      img = cv2.resize(img, (64,64)) \n",
        "      if mode == 1:\n",
        "        img = cv2.cvtColor(img, cv2.COLOR_BGR2GRAY)\n",
        "        img = img.flatten().reshape(4096,)\n",
        "      img = img/255\n",
        "      \n",
        "      processed_data.append(img)\n",
        "      processed_labels.append(lab)\n",
        "    lab+=1\n",
        "\n",
        "\n",
        "  processed_data, processed_labels = shuffle(processed_data, processed_labels)\n",
        "  train_dataset = processed_data[:int((np.array(processed_data).shape[0]*7)/10)]\n",
        "  val_dataset = processed_data[int((np.array(processed_data).shape[0]*7)/10):int((np.array(processed_data).shape[0]*8)/10)] \n",
        "  test_dataset = processed_data[int((np.array(processed_data).shape[0]*8)/10):]\n",
        "  train_labels = processed_labels[:int((np.array(processed_labels).shape[0]*7)/10)]\n",
        "  val_labels = processed_labels[int((np.array(processed_labels).shape[0]*7)/10):int((np.array(processed_labels).shape[0]*8)/10)]\n",
        "  test_labels = processed_labels[int((np.array(processed_labels).shape[0]*8)/10):]\n",
        "\n",
        "  return train_dataset, val_dataset, test_dataset, train_labels, val_labels, test_labels\n",
        "    \n",
        "\n",
        "\n",
        "\n",
        "      \n",
        "\n",
        "\n",
        "\n",
        "\n",
        "    # TODO: \n",
        "    # Read dataset files\n",
        "    # Resize images as 64x64 so that you have consistent data. You can use img.resize((64,64)) from PIL.Image.\n",
        "    # Construct training, validation and test sets\n",
        "    # Normalize datasets\n",
        "    \n",
        "    #return train_dataset, val_dataset, test_dataset#\n",
        "\n",
        "\n",
        "\n",
        "#train_dataset, val_dataset, test_dataset = get_dataset(\"data\",)"
      ],
      "execution_count": 3,
      "outputs": []
    },
    {
      "cell_type": "code",
      "metadata": {
        "id": "RD4dcFio09pS"
      },
      "source": [
        ""
      ],
      "execution_count": null,
      "outputs": []
    },
    {
      "cell_type": "markdown",
      "metadata": {
        "id": "iz1yad18Yo7m"
      },
      "source": [
        "###Model Implementations [10 pts.]"
      ]
    },
    {
      "cell_type": "markdown",
      "metadata": {
        "id": "xhv_2w2oZVcL"
      },
      "source": [
        "#### Multi Layer Perceptron [5 pts.]\n",
        "Now, implement your three layer neural network. (Input+hidden1+hidden2) FNet class will represent your neural network. The first hidden layer will contain 2048 neurons, and the second will have 1024 neurons. You will decide the number of input and output neurons. Use ReLU as your hidden layer activation function. You need to pick a proper activation function for the output layer."
      ]
    },
    {
      "cell_type": "code",
      "metadata": {
        "id": "kLbnCwuvYy1N"
      },
      "source": [
        "class FNet(nn.Module):\n",
        "    '''Define your neural network'''\n",
        "    def __init__(self, Isize, Osize): \n",
        "      super(FNet, self).__init__()\n",
        "      self.Hlayer1 = 2048\n",
        "      self.Hlayer2 = 1024\n",
        "      self.inpL = Isize\n",
        "      self.outL = Osize\n",
        "      self.hidden_layer1 = nn.Linear(self.inpL, self.Hlayer1)\n",
        "      self.hidden_layer2 = nn.Linear(self.Hlayer1, self.Hlayer2)\n",
        "      self.output_layer = nn.Linear(self.Hlayer2, self.outL)\n",
        "    # you can add any additional parameters you want \n",
        "    # TODO:\n",
        "    # You should create your neural network here\n",
        "\n",
        "     \n",
        "    def forward(self, X): \n",
        "      X = F.relu(self.hidden_layer1(X))\n",
        "      X = F.relu(self.hidden_layer2(X))\n",
        "      return torch.softmax(self.output_layer(X), dim=1)\n",
        "    # you can add any additional parameters you want\n",
        "    # TODO:\n",
        "    # Forward propagation implementation should be here"
      ],
      "execution_count": 4,
      "outputs": []
    },
    {
      "cell_type": "markdown",
      "metadata": {
        "id": "wFVQay-2Z7Ix"
      },
      "source": [
        "#### Convolutional Neural Network [5 pts]\n",
        "\n",
        "Now implement your CNN. ConvNet class will represent your convolutional neural network. Implement 4 layers of convolution: \n",
        "<ul>\n",
        "    <li>(1) 8 filters with size of 3 x 3 with stride 1 and no padding, (2) ReLU </li>\n",
        "    <li>(3) 16 filters with size of 3 x 3 with stride 1 and no padding, (4) ReLU and (5) MaxPool 2 x 2 </li>\n",
        "    <li>(6) 32 filters with size of 5 x 5 with stride 1 and padding 1, (7) ReLU and (8) MaxPool 2 x 2 </li> \n",
        "    <li>(9) 32 filters with size of 5 x 5 with stride 1 and padding 1, (10) ReLU and (11) MaxPool 2 x 2 </li> \n",
        "</ul>\n",
        "\n",
        "As the classifier layer, you need to add only one linear layer at the end of the network. You need to choose the appropriate input and output neuron sizes and the activation function for the dense layer."
      ]
    },
    {
      "cell_type": "code",
      "metadata": {
        "id": "lNnoeEy-aGA3"
      },
      "source": [
        "class ConvNet(nn.Module):\n",
        "    '''Define your neural network'''\n",
        "    def __init__(self): # you can add any additional parameters you want \n",
        "      super(ConvNet, self).__init__()\n",
        "      self.conv1 = nn.Conv2d(in_channels=3,out_channels=8,stride=1,padding=0,kernel_size=3)\n",
        "      self.conv2 = nn.Conv2d(in_channels=8,out_channels=16,stride=1,padding=0,kernel_size=3)\n",
        "      self.conv3 = nn.Conv2d(in_channels=16,out_channels=32,stride=1,padding=0,kernel_size=5)\n",
        "      self.conv4 = nn.Conv2d(in_channels=32,out_channels=32,stride=1,padding=0,kernel_size=5)\n",
        "      self.mp = nn.MaxPool2d(2)\n",
        "      self.fc = nn.Linear(512, 13)\n",
        "    # TODO:\n",
        "    # You should create your neural network here\n",
        "\n",
        "     \n",
        "    def forward(self, X): # you can add any additional parameters you want\n",
        "      in_size = X.size(0)\n",
        "      X = F.relu(self.conv1(X))\n",
        "      X = F.relu(self.mp(self.conv2(X)))\n",
        "      X = F.relu(self.mp(self.conv3(X)))\n",
        "      X = F.relu(self.mp(self.conv4(X)))\n",
        "      #(print(X.size()))\n",
        "      X = torch.flatten(X, start_dim=1)  # flatten the tensor\n",
        "      #(print(X.size()))\n",
        "      X = self.fc(X)\n",
        "      #(print(X.size()))\n",
        "      return torch.softmax(X,dim=1)\n",
        "      #return F.softmax(X)\n",
        "    # TODO:\n",
        "    # Forward propagation implementation should be here"
      ],
      "execution_count": 5,
      "outputs": []
    },
    {
      "cell_type": "markdown",
      "metadata": {
        "id": "s4HT9fvm_jgX"
      },
      "source": [
        "###Stochastic Gradient Descent [35 pts.]"
      ]
    },
    {
      "cell_type": "markdown",
      "metadata": {
        "id": "ZJO7J4sf7YGZ"
      },
      "source": [
        "####Training with SGD [20 pts.]\r\n",
        "\r\n",
        "Train both models up to 700 epochs with properly processed inputs, i.e. call your \"get_dataset\" function in mode \"1\" for MLP and mode \"2\" for CNN. Use SGD as your optimizer. Tune your learning rate, weight decay. Take momentum as $0$ Save your best models, i.e. MLP and CNN models with highest performance, as \"best_mlp_sgd.pth\" and \"best_cnn_sgd.pth\". The best model decision is up to you. You could use any measurement and/or metric to decide on the best model for each network. However, you must explain your reasoning in your choice.\r\n",
        "\r\n",
        "During training, you need to plot two figures for each model:\r\n",
        "1. training loss and validation loss vs. epoch\r\n",
        "2. validation acuracy and validation accuracy vs. epoch <br>\r\n",
        "\r\n",
        "Name your axes and plots properly."
      ]
    },
    {
      "cell_type": "code",
      "metadata": {
        "colab": {
          "base_uri": "https://localhost:8080/",
          "height": 530
        },
        "id": "28Zs63u-CQn9",
        "outputId": "68724716-12fd-46b3-bed4-30ed823ae404"
      },
      "source": [
        "#for the selection of best model, we used accuracy of the validation set. The reason for that \r\n",
        "#it gives us highest accuracy and as data is shuffeled we expect to have similar data everywhere.\r\n",
        "#therefore we expect similar accuracy on test set.\r\n",
        "\r\n",
        "# HINT: note that your training time should not take many days.\r\n",
        "\r\n",
        "# TODO:\r\n",
        "# Pick your hyper parameters\r\n",
        "max_epoch = 700 \r\n",
        "train_batch = 32\r\n",
        "test_batch = 32\r\n",
        "learning_rate = 0.005\r\n",
        "\r\n",
        "use_gpu = torch.cuda.is_available()\r\n",
        "\r\n",
        "train_dataset, val_dataset, test_dataset, train_labels, val_labels, test_labels = get_dataset(\"data\", 1)\r\n",
        "# Create train dataset loader\r\n",
        "train_dataset = np.array(train_dataset)\r\n",
        "train_labels = np.array(train_labels)\r\n",
        "test_dataset = np.array(test_dataset)\r\n",
        "test_labels = np.array(test_labels)\r\n",
        "val_dataset = np.array(val_dataset)\r\n",
        "val_labels = np.array(val_labels)\r\n",
        "train_data = CatsDataset(train_dataset, train_labels)\r\n",
        "trainloader = DataLoader(train_data, batch_size=train_batch, shuffle=True)\r\n",
        "# Create validation dataset loader\r\n",
        "valid_data = CatsDataset(val_dataset, val_labels)\r\n",
        "val_loader = DataLoader(valid_data, batch_size=test_batch)\r\n",
        "# Create test dataset loader\r\n",
        "test_data = CatsDataset(test_dataset, test_labels)\r\n",
        "testloader = DataLoader(test_data, batch_size=test_batch)\r\n",
        "\r\n",
        "# initialize your network\r\n",
        "model = FNet(train_dataset.shape[1],13) \r\n",
        "if use_gpu:\r\n",
        "  model.cuda()\r\n",
        "# define your loss function\r\n",
        "criterion = nn.MSELoss()\r\n",
        "optimizer = torch.optim.SGD(model.parameters(), lr=learning_rate,momentum=0, weight_decay=5e-04) # you can play with  weight_decay as well\r\n",
        "    \r\n",
        "# start training\r\n",
        "# for each epoch calculate validation performance\r\n",
        "# save best model according to validation performance\r\n",
        "lLoss = 0\r\n",
        "FinalLossTrain=[]\r\n",
        "FinalLossValid=[]\r\n",
        "FinalAccTrain=[]\r\n",
        "FinalAccValid=[]\r\n",
        "check_for = 0\r\n",
        "for epoch in range(max_epoch):\r\n",
        "  ###############################################333\r\n",
        "  model=model.train()\r\n",
        "  j=0\r\n",
        "  lossez = np.zeros(train_data.__len__())\r\n",
        "  predicteds=[]\r\n",
        "  actuals = []\r\n",
        "  for batch_idx, (data, labels) in enumerate(trainloader):\r\n",
        "    if use_gpu:\r\n",
        "      data = data.cuda()\r\n",
        "    optimizer.zero_grad()\r\n",
        "    y_pred = model(data)\r\n",
        "    predicted = np.array((y_pred).cpu().detach())\r\n",
        "    for x in predicted:\r\n",
        "      predicteds.append(np.argmax(x))\r\n",
        "\r\n",
        "    one_hot = torch.nn.functional.one_hot(labels.to(torch.int64),13)\r\n",
        "    loss  = criterion(y_pred, one_hot.to(torch.float))\r\n",
        "    #loss  = criterion(y_pred, labels.unsqueeze(1))\r\n",
        "    \r\n",
        "    loss.backward()\r\n",
        "    optimizer.step()\r\n",
        "    \r\n",
        "    actual = np.array(labels[:].unsqueeze(1).cpu().detach())\r\n",
        "    \r\n",
        "    kia = 0\r\n",
        "    nahi = 0\r\n",
        "    for kuch in actual:     \r\n",
        "      if actual[kia] == np.argmax(predicted[kia]):\r\n",
        "        nahi += 1\r\n",
        "      kia += 1\r\n",
        "    accuracies = nahi/kia\r\n",
        "    losses = np.mean(np.array(loss.cpu().detach()))\r\n",
        "    \r\n",
        "    \r\n",
        "    for x in actual:\r\n",
        "      actuals.append(x)\r\n",
        "    \r\n",
        "    #lossez[j*train_batch:(j+1)*train_batch] = (np.array(criterion(y_pred, labels.unsqueeze(1)).cpu().detach()))\r\n",
        "    lossez[j*train_batch:(j+1)*train_batch] = losses\r\n",
        "    \r\n",
        "    j=j+1 \r\n",
        "\r\n",
        "  kia = 0\r\n",
        "  nahi = 0\r\n",
        "  #print(lossez)\r\n",
        "  for kuch in actuals:\r\n",
        "    if actuals[kia][0] == predicteds[kia]:\r\n",
        "      nahi += 1\r\n",
        "    kia += 1\r\n",
        "  acc = nahi/kia\r\n",
        "\r\n",
        "  #print(\"iteration end: \", check_for,\" acc: \", acc*100)\r\n",
        "  ########################################################\r\n",
        "#    iterate over training batches\r\n",
        "#    ...\r\n",
        "\r\n",
        "#    Validation\r\n",
        "  model = model.eval()\r\n",
        "  criterions = nn.MSELoss()\r\n",
        "  lossezV = np.zeros(valid_data.__len__())\r\n",
        "  predictedsV=[]\r\n",
        "  actualsV = []\r\n",
        "  j=0\r\n",
        "  with torch.no_grad():\r\n",
        "    for batch_idx, (data, labels) in enumerate(val_loader):\r\n",
        "      #print(labels)\r\n",
        "      y_pred = (model(data))\r\n",
        "      predicted =np.array((y_pred).cpu().detach())\r\n",
        "      actual = np.array(labels[:].unsqueeze(1).cpu().detach())\r\n",
        "      for x in predicted:\r\n",
        "        predictedsV.append(np.argmax(x))\r\n",
        "      for x in actual:\r\n",
        "        actualsV.append(x)\r\n",
        "      \r\n",
        "      #lossezV[j*test_batch:(j+1)*test_batch] = (np.array(criterions(y_pred, labels.unsqueeze(1)).cpu().detach()))\r\n",
        "      one_hotV = torch.nn.functional.one_hot(labels.to(torch.int64),13)\r\n",
        "      lossV  = criterion(y_pred, one_hotV.to(torch.float))\r\n",
        "      lossesV = np.mean(np.array(lossV.cpu().detach()))\r\n",
        "      lossezV[j*train_batch:(j+1)*train_batch] = lossesV\r\n",
        "      j=j+1   \r\n",
        "      kia = 0\r\n",
        "      nahi = 0\r\n",
        "      \r\n",
        "      for kuch in actual:\r\n",
        "        if actual[kia] == np.argmax(predicted[kia]):\r\n",
        "          nahi += 1\r\n",
        "        kia += 1\r\n",
        "      accuracies = nahi/kia\r\n",
        "    \r\n",
        "    kia = 0\r\n",
        "    nahi = 0\r\n",
        "    \r\n",
        "    for kuch in actualsV:\r\n",
        "      if actualsV[kia][0] == predictedsV[kia]:\r\n",
        "        nahi += 1\r\n",
        "      kia += 1\r\n",
        "    accV = nahi/kia\r\n",
        "    \r\n",
        "\r\n",
        "  FinalLossTrain.append(np.mean(lossez)*100)\r\n",
        "  FinalLossValid.append(np.mean(lossezV)*100)\r\n",
        "  FinalAccTrain.append(acc)\r\n",
        "  FinalAccValid.append(accV)\r\n",
        "#     iterate over validation batches\r\n",
        "  if accV > lLoss:\r\n",
        "    torch.save(model, 'best_path.pth')\r\n",
        "    lLoss = accV\r\n",
        "\r\n",
        "  \r\n",
        "  #print(\"iteration end: \", check_for,\" accV: \", accV*100)\r\n",
        "  check_for += 1\r\n",
        "# plot losses vs epoch \r\n",
        "# ...\r\n",
        "# plt.show()\r\n",
        "plt.figure()\r\n",
        "plt.plot(FinalLossTrain, label='train loss')\r\n",
        "plt.plot(FinalLossValid, label='validation loss')\r\n",
        "plt.legend(loc=\"upper left\")\r\n",
        "#print(FinalLossTrain)\r\n",
        "#print(FinalLossValid)\r\n",
        "# plot accuracies vs epoch\r\n",
        "# ...\r\n",
        "# plt.show()\r\n",
        "plt.figure()\r\n",
        "plt.plot(FinalAccTrain, label='train acc')\r\n",
        "plt.plot(FinalAccValid, label='validation acc')\r\n",
        "plt.legend(loc=\"upper left\")\r\n"
      ],
      "execution_count": 39,
      "outputs": [
        {
          "output_type": "execute_result",
          "data": {
            "text/plain": [
              "<matplotlib.legend.Legend at 0x7f11ee33a3c8>"
            ]
          },
          "metadata": {
            "tags": []
          },
          "execution_count": 39
        },
        {
          "output_type": "display_data",
          "data": {
            "image/png": "[encoded data removed]",
            "text/plain": [
              "<Figure size 432x288 with 1 Axes>"
            ]
          },
          "metadata": {
            "tags": [],
            "needs_background": "light"
          }
        },
        {
          "output_type": "display_data",
          "data": {
            "image/png": "[encoded data removed]",
            "text/plain": [
              "<Figure size 432x288 with 1 Axes>"
            ]
          },
          "metadata": {
            "tags": [],
            "needs_background": "light"
          }
        }
      ]
    },
    {
      "cell_type": "code",
      "metadata": {
        "id": "bRmaOmdS9B-t"
      },
      "source": [
        "\r\n"
      ],
      "execution_count": null,
      "outputs": []
    },
    {
      "cell_type": "code",
      "metadata": {
        "id": "S4VU9L1jCNCC",
        "colab": {
          "base_uri": "https://localhost:8080/",
          "height": 530
        },
        "outputId": "f19ab694-1f79-4c01-aceb-e089030046ed"
      },
      "source": [
        "# HINT: note that your training time should not take many days.\r\n",
        "\r\n",
        "# TODO:\r\n",
        "# Pick your hyper parameters\r\n",
        "max_epoch = 700\r\n",
        "train_batch = 32\r\n",
        "test_batch = 32\r\n",
        "learning_rate = 0.005\r\n",
        "\r\n",
        "use_gpu = torch.cuda.is_available()\r\n",
        "\r\n",
        "train_dataset, val_dataset, test_dataset, train_labels, val_labels, test_labels = get_dataset(\"data\", 2)\r\n",
        "# Create train dataset loader\r\n",
        "train_dataset = np.array(train_dataset)\r\n",
        "train_labels = np.array(train_labels)\r\n",
        "test_dataset = np.array(test_dataset)\r\n",
        "test_labels = np.array(test_labels)\r\n",
        "val_dataset = np.array(val_dataset)\r\n",
        "val_labels = np.array(val_labels)\r\n",
        "train_data = CatsDataset(train_dataset, train_labels)\r\n",
        "trainloader = DataLoader(train_data, batch_size=train_batch, shuffle=True)\r\n",
        "# Create validation dataset loader\r\n",
        "valid_data = CatsDataset(val_dataset, val_labels)\r\n",
        "val_loader = DataLoader(valid_data, batch_size=test_batch)\r\n",
        "# Create test dataset loader\r\n",
        "test_data = CatsDataset(test_dataset, test_labels)\r\n",
        "testloader = DataLoader(test_data, batch_size=test_batch)\r\n",
        "\r\n",
        "# initialize your network\r\n",
        "model = ConvNet()\r\n",
        "if use_gpu:\r\n",
        "  model.cuda()\r\n",
        "\r\n",
        "# define your loss function\r\n",
        "criterion = nn.MSELoss()\r\n",
        "\r\n",
        "optimizer = torch.optim.SGD(model.parameters(), lr=learning_rate, weight_decay=5e-04) # you can play with  weight_decay as well\r\n",
        "    \r\n",
        "# start training\r\n",
        "# for each epoch calculate validation performance\r\n",
        "# save best model according to validation performance\r\n",
        "\r\n",
        "lLoss = 0\r\n",
        "FinalLossTrain=[]\r\n",
        "FinalLossValid=[]\r\n",
        "FinalAccTrain=[]\r\n",
        "FinalAccValid=[]\r\n",
        "check_for = 0\r\n",
        "for epoch in range(max_epoch):\r\n",
        "  #print(\"iteration start: \", check_for)\r\n",
        "  ###############################################333\r\n",
        "  model=model.train()\r\n",
        "  j=0\r\n",
        "  \r\n",
        "  lossez = np.zeros(train_data.__len__())\r\n",
        "  predicteds=[]\r\n",
        "  actuals = []\r\n",
        "  for batch_idx, (data, labels) in enumerate(trainloader):\r\n",
        "    \r\n",
        "    if use_gpu:\r\n",
        "      data = data.cuda()\r\n",
        "    optimizer.zero_grad()\r\n",
        "    y_pred = model(data.permute(0, 3, 1, 2))\r\n",
        "    #y_pred = torch.max(y_pred)\r\n",
        "\r\n",
        "    one_hot = torch.nn.functional.one_hot(labels.to(torch.int64),13)\r\n",
        "    loss  = criterion(y_pred, one_hot.to(torch.float))\r\n",
        "    #loss  = criterion(y_pred, labels.unsqueeze(1))\r\n",
        "\r\n",
        "    loss.backward()\r\n",
        "    optimizer.step()\r\n",
        "    predicted = np.array((y_pred).cpu().detach())\r\n",
        "    actual = np.array(labels[:].unsqueeze(1).cpu().detach())\r\n",
        "    \r\n",
        "    kia = 0\r\n",
        "    nahi = 0\r\n",
        "    \r\n",
        "    for kuch in actual:     \r\n",
        "      if actual[kia] == np.argmax(predicted[kia]):\r\n",
        "        nahi += 1\r\n",
        "      kia += 1\r\n",
        "    accuracies = nahi/kia\r\n",
        "    losses = np.mean(np.array(loss.cpu().detach()))\r\n",
        "    \r\n",
        "    for x in predicted:\r\n",
        "      predicteds.append(np.argmax(x))\r\n",
        "    for x in actual:\r\n",
        "      actuals.append(x)\r\n",
        "    \r\n",
        "    #lossez[j*train_batch:(j+1)*train_batch] = (np.array(criterion(y_pred, labels.unsqueeze(1)).cpu().detach()))\r\n",
        "    lossez[j*train_batch:(j+1)*train_batch] = losses\r\n",
        "    j=j+1 \r\n",
        "\r\n",
        "  kia = 0\r\n",
        "  nahi = 0\r\n",
        "  #print(lossez)\r\n",
        "  for kuch in actuals:\r\n",
        "    if actuals[kia][0] == predicteds[kia]:\r\n",
        "      nahi += 1\r\n",
        "    kia += 1\r\n",
        "  acc = nahi/kia\r\n",
        "\r\n",
        "  #print(\"iteration end: \", check_for,\" acc: \", acc*100)\r\n",
        "  ########################################################\r\n",
        "#    iterate over training batches\r\n",
        "#    ...\r\n",
        "\r\n",
        "#    Validation\r\n",
        "  model = model.eval()\r\n",
        "  criterions = nn.MSELoss()\r\n",
        "  lossezV = np.zeros(valid_data.__len__())\r\n",
        "  predictedsV=[]\r\n",
        "  actualsV = []\r\n",
        "  j=0\r\n",
        "  with torch.no_grad():\r\n",
        "    for batch_idx, (data, labels) in enumerate(val_loader):\r\n",
        "      #print(labels)\r\n",
        "      y_pred = model(data.permute(0, 3, 1, 2))\r\n",
        "      predicted =np.array((y_pred).cpu().detach())\r\n",
        "      actual = np.array(labels[:].unsqueeze(1).cpu().detach())\r\n",
        "      for x in predicted:\r\n",
        "        predictedsV.append(np.argmax(x))\r\n",
        "      for x in actual:\r\n",
        "        actualsV.append(x)\r\n",
        "      \r\n",
        "\r\n",
        "      one_hotV = torch.nn.functional.one_hot(labels.to(torch.int64),13)\r\n",
        "      lossV  = criterion(y_pred, one_hotV.to(torch.float))\r\n",
        "      lossesV = np.mean(np.array(lossV.cpu().detach()))\r\n",
        "      lossezV[j*train_batch:(j+1)*train_batch] = lossesV\r\n",
        "\r\n",
        "      #lossezV[j*train_batch:(j+1)*train_batch] = (np.array(criterion(y_pred, labels.unsqueeze(1)).cpu().detach()))\r\n",
        "      j=j+1   \r\n",
        "      kia = 0\r\n",
        "      nahi = 0\r\n",
        "      \r\n",
        "      for kuch in actual:\r\n",
        "        if actual[kia] == np.argmax(predicted[kia]):\r\n",
        "          nahi += 1\r\n",
        "        kia += 1\r\n",
        "      accuracies = nahi/kia\r\n",
        "    \r\n",
        "    kia = 0\r\n",
        "    nahi = 0\r\n",
        "    \r\n",
        "    for kuch in actualsV:\r\n",
        "      if actualsV[kia][0] == predictedsV[kia]:\r\n",
        "        nahi += 1\r\n",
        "      kia += 1\r\n",
        "    accV = nahi/kia\r\n",
        "\r\n",
        "  FinalLossTrain.append(np.mean(lossez)*100)\r\n",
        "  FinalLossValid.append(np.mean(lossezV)*100)\r\n",
        "  FinalAccTrain.append(acc)\r\n",
        "  FinalAccValid.append(accV)\r\n",
        "#     iterate over validation batches\r\n",
        "  if accV > lLoss:\r\n",
        "    torch.save(model, 'best_path_cnn.pth')\r\n",
        "    lLoss = accV\r\n",
        "\r\n",
        "  \r\n",
        "  #print(\"iteration end: \", check_for,\" accV: \", accV*100)\r\n",
        "  check_for += 1\r\n",
        "# plot losses vs epoch \r\n",
        "# ...\r\n",
        "# plt.show()\r\n",
        "plt.figure()\r\n",
        "plt.plot(FinalLossTrain, label='train loss')\r\n",
        "plt.plot(FinalLossValid, label='validation loss')\r\n",
        "plt.legend(['Training loss', 'Validation Loss'],fontsize=10)\r\n",
        "#print(FinalLossTrain)\r\n",
        "#print(FinalLossValid)\r\n",
        "# plot accuracies vs epoch\r\n",
        "# ...\r\n",
        "# plt.show()\r\n",
        "plt.figure()\r\n",
        "plt.plot(FinalAccTrain, label='train acc')\r\n",
        "plt.plot(FinalAccValid, label='validation acc')\r\n",
        "plt.legend(['Training accuracy', 'Validation accuracy'],fontsize=10)\r\n",
        "\r\n",
        "# for epoch in range(max_epoch):\r\n",
        "#    model=model.train()\r\n",
        "#    iterate over training batches\r\n",
        "#    ...\r\n",
        "\r\n",
        "#    Validation\r\n",
        "#    model = model.eval()\r\n",
        "#    with torch.no_grad():\r\n",
        "#     iterate over validation batches\r\n",
        "#    if ???????:\r\n",
        "#       torch.save(model, best_path)\r\n",
        "\r\n",
        "# plot losses vs epoch \r\n",
        "# ...\r\n",
        "# plt.show()\r\n",
        "\r\n",
        "# plot accuracies vs epoch\r\n",
        "# ...\r\n",
        "# plt.show()\r\n"
      ],
      "execution_count": 41,
      "outputs": [
        {
          "output_type": "execute_result",
          "data": {
            "text/plain": [
              "<matplotlib.legend.Legend at 0x7f11e0829e10>"
            ]
          },
          "metadata": {
            "tags": []
          },
          "execution_count": 41
        },
        {
          "output_type": "display_data",
          "data": {
            "image/png": "[encoded data removed]",
            "text/plain": [
              "<Figure size 432x288 with 1 Axes>"
            ]
          },
          "metadata": {
            "tags": [],
            "needs_background": "light"
          }
        },
        {
          "output_type": "display_data",
          "data": {
            "image/png": "[encoded data removed]",
            "text/plain": [
              "<Figure size 432x288 with 1 Axes>"
            ]
          },
          "metadata": {
            "tags": [],
            "needs_background": "light"
          }
        }
      ]
    },
    {
      "cell_type": "markdown",
      "metadata": {
        "id": "bGlkTe9e-VLO"
      },
      "source": [
        "####Test with SGD [15 pts.]\r\n",
        "\r\n",
        "Report the following for your best model on your test set which has not been seen by the model yet.\r\n",
        "1. A heatmap for confusion matrix\r\n",
        "2. Accuracy\r\n",
        "3. Macro Precision\r\n",
        "4. Macro Recall\r\n",
        "5. F1 Score\r\n",
        "\r\n",
        "Then, discuss figures that you have plotted in the previous section, your test results and algorithm complexity with maximum 200 words. Compare two **models**. Which one is more preferable? Why?\r\n",
        "\r\n",
        "We observe that for both of our models our accuracies increase and our losses decrease as iterations increase, and our model is trained. Plots show that neither of our models were underfitting or over fitting. For MLP we are having 2 hidden layers while for CNN we have 4 convolution layers. We use MSELoss function for both models and for both optimizers as well. The reason for that is because from the different Loss functions that were checked on dataset it was performing best. Now we observe that the accuracy is higher for MLP implementation as compared to CNN implementation. Now we see the results, we come to know that all of precision, recall and F1 score are higher for MLP as compared to CNN. However,  Heatmaps for both models show similar structures. Furthermore, CNN takes more time for training as compared to MLP model. Therefore it is indicated by all of the metrics that MLP model is performing better as compared to CNN model. Therefore it is better to use MLP model."
      ]
    },
    {
      "cell_type": "code",
      "metadata": {
        "colab": {
          "base_uri": "https://localhost:8080/",
          "height": 436
        },
        "id": "ZuMo7CbnCP50",
        "outputId": "87771c4d-749a-42cd-80d0-da980081efb0"
      },
      "source": [
        "# Test MLP\r\n",
        "# load best model\r\n",
        "best_path = \"best_path.pth\"\r\n",
        "model = torch.load(best_path)\r\n",
        "\r\n",
        "# evaluate on test set\r\n",
        "model = model.eval()\r\n",
        "\r\n",
        "criterions = nn.MSELoss()\r\n",
        "lossezZ = np.zeros(test_data.__len__())\r\n",
        "predictedsZ=[]\r\n",
        "actualsZ = []\r\n",
        "j=0\r\n",
        "with torch.no_grad():\r\n",
        "  for batch_idx, (data, labels) in enumerate(testloader):\r\n",
        "    #print(labels)\r\n",
        "    y_pred = (model(data))\r\n",
        "    predicted =np.array((y_pred).cpu().detach())\r\n",
        "    actual = np.array(labels[:].unsqueeze(1).cpu().detach())\r\n",
        "    for x in predicted:\r\n",
        "      predictedsZ.append(np.argmax(x))\r\n",
        "    for x in actual:\r\n",
        "      actualsZ.append(x)\r\n",
        "    \r\n",
        "    #lossezZ.append(np.array(criterions(y_pred, labels.unsqueeze(1)).cpu().detach()))\r\n",
        "    one_hotZ = torch.nn.functional.one_hot(labels.to(torch.int64),13)\r\n",
        "    lossZ  = criterion(y_pred, one_hotZ.to(torch.float))\r\n",
        "    lossesZ = np.mean(np.array(lossZ.cpu().detach()))\r\n",
        "    lossezZ[j*train_batch:(j+1)*train_batch] = lossesZ\r\n",
        "    j=j+1   \r\n",
        "    kia = 0\r\n",
        "    nahi = 0\r\n",
        "    \r\n",
        "    for kuch in actual:\r\n",
        "      if actual[kia] == np.argmax(predicted[kia]):\r\n",
        "        nahi += 1\r\n",
        "      kia += 1\r\n",
        "    accuracies = nahi/kia\r\n",
        "  \r\n",
        "  kia = 0\r\n",
        "  nahi = 0\r\n",
        "  \r\n",
        "  for kuch in actualsZ:\r\n",
        "    if actualsZ[kia][0] == predictedsZ[kia]:\r\n",
        "      nahi += 1\r\n",
        "    kia += 1\r\n",
        "  accZ = nahi/kia\r\n",
        "\r\n",
        "  \r\n",
        "  conf_matrix = (confusion_matrix(actualsZ, predictedsZ))\r\n",
        "  acc = accuracy_score(actualsZ, predictedsZ) *100\r\n",
        "  pre = precision_score(actualsZ, predictedsZ,average='macro') *100\r\n",
        "  recall = recall_score(actualsZ, predictedsZ,average='macro') *100\r\n",
        "  f1 = f1_score(actualsZ, predictedsZ,average='macro') *100\r\n",
        "  lossesd = np.mean(lossezZ)\r\n",
        "  #print(metrics.classification_report(actualsZ, predictedsZ, digits=3))\r\n",
        "  # print(\"confusion matrix: \",dd)\r\n",
        "  # print(\"f1 score: \",f1_score(actualsZ, predictedsZ,average='macro') *100) \r\n",
        "  # print(\"macro prescion: \",precision_score(actualsZ, predictedsZ,average='macro') *100)\r\n",
        "  # print(\"macro recall: \",recall_score(actualsZ, predictedsZ,average='macro') *100)\r\n",
        "  # print(\"accuracy: \",accuracy_score(actualsZ, predictedsZ) *100)\r\n",
        "  #print(\"nahi\",nahi)\r\n",
        "  #print(\"loader len\",val_loader.__len__())\r\n",
        "  #print(\"act\",actualsV)\r\n",
        "  #print(\"pre\",predictedsV)\r\n",
        "  \r\n",
        "#   iterate over test batches\r\n",
        "#   get confusion matrix\r\n",
        "#   calculate accuracy\r\n",
        "#   calculate precision\r\n",
        "#   calculate recall\r\n",
        "#   calculate F1 score\r\n",
        "\r\n",
        "# print metrics\r\n",
        "print(\"Mean Loss:\", lossesd, \"\\nMean Acc:\", acc,\"\\nMean Macro Precision:\", pre, \"\\nMean Macro Recall:\", recall, \"\\nMean Macro F1 Score:\", f1) \r\n",
        "\r\n",
        "# plot confusion matrix\r\n",
        "fig, ax = plt.subplots()\r\n",
        "im = ax.imshow(conf_matrix)\r\n",
        "# We want to show all ticks...\r\n",
        "ax.set_xticks(np.arange(15))\r\n",
        "ax.set_yticks(np.arange(15))\r\n",
        "\r\n",
        "fig.tight_layout()\r\n",
        "plt.show()"
      ],
      "execution_count": 40,
      "outputs": [
        {
          "output_type": "stream",
          "text": [
            "/usr/local/lib/python3.6/dist-packages/sklearn/metrics/_classification.py:1272: UndefinedMetricWarning: Precision is ill-defined and being set to 0.0 in labels with no predicted samples. Use `zero_division` parameter to control this behavior.\n",
            "  _warn_prf(average, modifier, msg_start, len(result))\n"
          ],
          "name": "stderr"
        },
        {
          "output_type": "stream",
          "text": [
            "Mean Loss: 0.07023681560635688 \n",
            "Mean Acc: 11.783893985728849 \n",
            "Mean Macro Precision: 6.730272408450332 \n",
            "Mean Macro Recall: 12.055530554562699 \n",
            "Mean Macro F1 Score: 5.795633619188223\n"
          ],
          "name": "stdout"
        },
        {
          "output_type": "display_data",
          "data": {
            "image/png": "[encoded data removed]",
            "text/plain": [
              "<Figure size 432x288 with 1 Axes>"
            ]
          },
          "metadata": {
            "tags": [],
            "needs_background": "light"
          }
        }
      ]
    },
    {
      "cell_type": "code",
      "metadata": {
        "id": "LNc_qjAECN9V",
        "colab": {
          "base_uri": "https://localhost:8080/",
          "height": 436
        },
        "outputId": "8d9c4ce8-3a11-42f7-9355-94a88504fcf2"
      },
      "source": [
        "# Test CNN\r\n",
        "# load best model\r\n",
        "best_path = \"best_path_cnn.pth\"\r\n",
        "model = torch.load(best_path)\r\n",
        "\r\n",
        "# evaluate on test set\r\n",
        "# model = model.eval()\r\n",
        "model = model.eval()\r\n",
        "\r\n",
        "criterions = nn.MSELoss()\r\n",
        "lossezZZ = np.zeros(test_data.__len__())\r\n",
        "predictedsZZ=[]\r\n",
        "actualsZZ = []\r\n",
        "j=0\r\n",
        "with torch.no_grad():\r\n",
        "  for batch_idx, (data, labels) in enumerate(testloader):\r\n",
        "    #print(labels)\r\n",
        "    y_pred = model(data.permute(0, 3, 1, 2))\r\n",
        "    predicted =np.array((y_pred).cpu().detach())\r\n",
        "    actual = np.array(labels[:].unsqueeze(1).cpu().detach())\r\n",
        "    for x in predicted:\r\n",
        "      predictedsZZ.append(np.argmax(x))\r\n",
        "    for x in actual:\r\n",
        "      actualsZZ.append(x)\r\n",
        "    #print(\"y_p: \",y_pred.cpu().detach())\r\n",
        "    #print(\"predicted: \",predicted)\r\n",
        "    \r\n",
        "    # print(criterions(y_pred, labels.unsqueeze(1)))\r\n",
        "    \r\n",
        "    #lossezZZ.append(np.array(criterions(y_pred, labels.unsqueeze(1)).cpu().detach()))\r\n",
        "    one_hotZZ = torch.nn.functional.one_hot(labels.to(torch.int64),13)\r\n",
        "    lossZZ  = criterion(y_pred, one_hotZZ.to(torch.float))\r\n",
        "    lossesZZ = np.mean(np.array(lossZZ.cpu().detach()))\r\n",
        "    lossezZZ[j*train_batch:(j+1)*train_batch] = lossesZZ\r\n",
        "    \r\n",
        "    j=j+1   \r\n",
        "    kia = 0\r\n",
        "    nahi = 0\r\n",
        "    \r\n",
        "    for kuch in actual:\r\n",
        "      if actual[kia] == np.argmax(predicted[kia]):\r\n",
        "        nahi += 1\r\n",
        "      kia += 1\r\n",
        "    accuracies = nahi/kia\r\n",
        "  \r\n",
        "  kia = 0\r\n",
        "  nahi = 0\r\n",
        "  \r\n",
        "  for kuch in actualsZZ:\r\n",
        "    if actualsZZ[kia][0] == predictedsZZ[kia]:\r\n",
        "      #print(\"act: \",actualsV[kia][0])\r\n",
        "      #print(\"pre: \",predictedsV[kia][0])\r\n",
        "      nahi += 1\r\n",
        "    #print(\"-----------------\")\r\n",
        "    kia += 1\r\n",
        "  accZZ = nahi/kia\r\n",
        "  #print(\"accuracy \",accZZ*100)\r\n",
        "  dd = (confusion_matrix(actualsZZ, predictedsZZ))\r\n",
        "  acc = accuracy_score(actualsZZ, predictedsZZ) *100\r\n",
        "  pre = precision_score(actualsZZ, predictedsZZ,average='macro') *100\r\n",
        "  recall = recall_score(actualsZZ, predictedsZZ,average='macro') *100\r\n",
        "  f1 = f1_score(actualsZZ, predictedsZZ,average='macro') *100\r\n",
        "  lossesd = np.mean(lossezZZ)\r\n",
        "  # print(metrics.classification_report(actualsZ, predictedsZ, digits=3))\r\n",
        "  # print(\"confusion matrix: \",dd)\r\n",
        "  # print(\"f1 score: \",f1_score(actualsZ, predictedsZ,average='macro') *100) \r\n",
        "  # print(\"macro prescion: \",precision_score(actualsZ, predictedsZ,average='macro') *100)\r\n",
        "  # print(\"macro recall: \",recall_score(actualsZ, predictedsZ,average='macro') *100)\r\n",
        "  # print(\"accuracy: \",accuracy_score(actualsZ, predictedsZ) *100)\r\n",
        "#   iterate over test batches\r\n",
        "#   get confusion matrix\r\n",
        "#   calculate accuracy\r\n",
        "#   calculate precision\r\n",
        "#   calculate recall\r\n",
        "#   calculate F1 score\r\n",
        "\r\n",
        "# print metrics\r\n",
        "print(\"Mean Loss:\", lossesd, \"\\nMean Acc:\", acc,\"\\nMean Macro Precision:\", pre, \"\\nMean Macro Recall:\", recall, \"\\nMean Macro F1 Score:\", f1) \r\n",
        "\r\n",
        "# plot confusion matrix\r\n",
        "fig, ax = plt.subplots()\r\n",
        "im = ax.imshow(conf_matrix)\r\n",
        "#We want to show all ticks...\r\n",
        "ax.set_xticks(np.arange(15))\r\n",
        "ax.set_yticks(np.arange(15))\r\n",
        "\r\n",
        "fig.tight_layout()\r\n",
        "plt.show()"
      ],
      "execution_count": 42,
      "outputs": [
        {
          "output_type": "stream",
          "text": [
            "/usr/local/lib/python3.6/dist-packages/sklearn/metrics/_classification.py:1272: UndefinedMetricWarning: Precision is ill-defined and being set to 0.0 in labels with no predicted samples. Use `zero_division` parameter to control this behavior.\n",
            "  _warn_prf(average, modifier, msg_start, len(result))\n"
          ],
          "name": "stderr"
        },
        {
          "output_type": "stream",
          "text": [
            "Mean Loss: 0.07100901471851555 \n",
            "Mean Acc: 9.908256880733946 \n",
            "Mean Macro Precision: 2.308052219154088 \n",
            "Mean Macro Recall: 10.20255897022246 \n",
            "Mean Macro F1 Score: 3.1358827449841566\n"
          ],
          "name": "stdout"
        },
        {
          "output_type": "display_data",
          "data": {
            "image/png": "[encoded data removed]",
            "text/plain": [
              "<Figure size 432x288 with 1 Axes>"
            ]
          },
          "metadata": {
            "tags": [],
            "needs_background": "light"
          }
        }
      ]
    },
    {
      "cell_type": "code",
      "metadata": {
        "id": "Ep2FOcwFoSk5"
      },
      "source": [
        ""
      ],
      "execution_count": null,
      "outputs": []
    },
    {
      "cell_type": "markdown",
      "metadata": {
        "id": "N3L2zjEN_tZf"
      },
      "source": [
        "###Adam Optimizer [35 pts.]\r\n",
        "\r\n",
        "Adam is an adaptive learning rate optimization algorithm that has been designed specifically for training deep neural networks. It was presented by Diederik Kingma from OpenAI and Jimmy Ba from the University of Toronto in their 2015 ICLR paper (poster) titled “Adam: A Method for Stochastic Optimization“.\r\n",
        "\r\n",
        "Nowadays, most of machine learning frameworks, including tensorflow, Pytorch, and Keras, choose Adam as the default optimizer. In this question, you will experiment with it and try to understand why it replaced SGD as the default optimizer."
      ]
    },
    {
      "cell_type": "markdown",
      "metadata": {
        "id": "jOQ75RHP-Fdn"
      },
      "source": [
        "####Training with ADAM [20 pts.]\r\n",
        "\r\n",
        "Train both models up to 700 epochs with properly processed inputs, i.e. call your \"get_dataset\" function in mode \"1\" for MLP and mode \"2\" for CNN. This time use Adam Optimizer as your optimizer. Tune your learning rate, weight decay. Save your best models, i.e. MLP and CNN models with highest performance, as \"best_mlp_adam.pth\" and \"best_cnn_adam.pth\". The best model decision is up to you. You could use any measurement and/or metric to decide on the best model for each network. However, you must explain your reasoning in your choice.\r\n",
        "\r\n",
        "During training, you need to plot two figures for each model:\r\n",
        "1. training loss and validation loss vs. epoch\r\n",
        "2. validation acuracy and validation accuracy vs. epoch <br>\r\n",
        "\r\n",
        "Name your axes and plots properly."
      ]
    },
    {
      "cell_type": "code",
      "metadata": {
        "id": "ZseK2xlrCPLb",
        "colab": {
          "base_uri": "https://localhost:8080/",
          "height": 530
        },
        "outputId": "2e372cf8-d747-4690-e4e3-01c8c8bad3a3"
      },
      "source": [
        "#for the selection of best model, we used accuracy of the validation set. The reason for that \r\n",
        "#it gives us highest accuracy and as data is shuffeled we expect to have similar data everywhere.\r\n",
        "#therefore we expect similar accuracy on test set.\r\n",
        "\r\n",
        "# HINT: note that your training time should not take many days.\r\n",
        "\r\n",
        "# TODO:\r\n",
        "# Pick your hyper parameters\r\n",
        "max_epoch = 700\r\n",
        "train_batch = 32\r\n",
        "test_batch = 32\r\n",
        "learning_rate = 0.001\r\n",
        "\r\n",
        "use_gpu = torch.cuda.is_available()\r\n",
        "\r\n",
        "train_dataset, val_dataset, test_dataset, train_labels, val_labels, test_labels = get_dataset(\"data\", 1)\r\n",
        "# Create train dataset loader\r\n",
        "train_dataset = np.array(train_dataset)\r\n",
        "train_labels = np.array(train_labels)\r\n",
        "test_dataset = np.array(test_dataset)\r\n",
        "test_labels = np.array(test_labels)\r\n",
        "val_dataset = np.array(val_dataset)\r\n",
        "val_labels = np.array(val_labels)\r\n",
        "train_data = CatsDataset(train_dataset, train_labels)\r\n",
        "trainloader = DataLoader(train_data, batch_size=train_batch, shuffle=True)\r\n",
        "# Create validation dataset loader\r\n",
        "valid_data = CatsDataset(val_dataset, val_labels)\r\n",
        "val_loader = DataLoader(valid_data, batch_size=test_batch)\r\n",
        "# Create test dataset loader\r\n",
        "test_data = CatsDataset(test_dataset, test_labels)\r\n",
        "testloader = DataLoader(test_data, batch_size=test_batch)\r\n",
        "\r\n",
        "\r\n",
        "# initialize your network\r\n",
        "model = FNet(train_dataset.shape[1],13) \r\n",
        "if use_gpu:\r\n",
        "  model.cuda()\r\n",
        "# define your loss function\r\n",
        "criterion = nn.MSELoss()\r\n",
        "optimizer = torch.optim.Adam(model.parameters(), lr=learning_rate, weight_decay=5e-04) # you can play with  weight_decay as well\r\n",
        "    \r\n",
        "# start training\r\n",
        "# for each epoch calculate validation performance\r\n",
        "# save best model according to validation performance\r\n",
        "lLoss = 0\r\n",
        "FinalLossTrain=[]\r\n",
        "FinalLossValid=[]\r\n",
        "FinalAccTrain=[]\r\n",
        "FinalAccValid=[]\r\n",
        "check_for = 0\r\n",
        "for epoch in range(max_epoch):\r\n",
        "  ###############################################333\r\n",
        "  model=model.train()\r\n",
        "  j=0\r\n",
        "  lossez = np.zeros(train_data.__len__())\r\n",
        "  predicteds=[]\r\n",
        "  actuals = []\r\n",
        "  for batch_idx, (data, labels) in enumerate(trainloader):\r\n",
        "    if use_gpu:\r\n",
        "      data = data.cuda()\r\n",
        "    optimizer.zero_grad()\r\n",
        "    y_pred = model(data)\r\n",
        "    predicted = np.array((y_pred).cpu().detach())\r\n",
        "    for x in predicted:\r\n",
        "      predicteds.append(np.argmax(x))\r\n",
        "\r\n",
        "    one_hot = torch.nn.functional.one_hot(labels.to(torch.int64),13)\r\n",
        "    loss  = criterion(y_pred, one_hot.to(torch.float))\r\n",
        "    #loss  = criterion(y_pred, labels.unsqueeze(1))\r\n",
        "    \r\n",
        "    loss.backward()\r\n",
        "    optimizer.step()\r\n",
        "    \r\n",
        "    actual = np.array(labels[:].unsqueeze(1).cpu().detach())\r\n",
        "    \r\n",
        "    kia = 0\r\n",
        "    nahi = 0\r\n",
        "    for kuch in actual:     \r\n",
        "      if actual[kia] == np.argmax(predicted[kia]):\r\n",
        "        nahi += 1\r\n",
        "      kia += 1\r\n",
        "    accuracies = nahi/kia\r\n",
        "    losses = np.mean(np.array(loss.cpu().detach()))\r\n",
        "    \r\n",
        "    \r\n",
        "    for x in actual:\r\n",
        "      actuals.append(x)\r\n",
        "    \r\n",
        "    #lossez[j*train_batch:(j+1)*train_batch] = (np.array(criterion(y_pred, labels.unsqueeze(1)).cpu().detach()))\r\n",
        "    lossez[j*train_batch:(j+1)*train_batch] = losses\r\n",
        "    \r\n",
        "    j=j+1 \r\n",
        "\r\n",
        "  kia = 0\r\n",
        "  nahi = 0\r\n",
        "  #print(lossez)\r\n",
        "  for kuch in actuals:\r\n",
        "    if actuals[kia][0] == predicteds[kia]:\r\n",
        "      nahi += 1\r\n",
        "    kia += 1\r\n",
        "  acc = nahi/kia\r\n",
        "\r\n",
        "  #print(\"iteration end: \", check_for,\" acc: \", acc*100)\r\n",
        "  ########################################################\r\n",
        "#    iterate over training batches\r\n",
        "#    ...\r\n",
        "\r\n",
        "#    Validation\r\n",
        "  model = model.eval()\r\n",
        "  criterions = nn.MSELoss()\r\n",
        "  lossezV = np.zeros(valid_data.__len__())\r\n",
        "  predictedsV=[]\r\n",
        "  actualsV = []\r\n",
        "  j=0\r\n",
        "  with torch.no_grad():\r\n",
        "    for batch_idx, (data, labels) in enumerate(val_loader):\r\n",
        "      #print(labels)\r\n",
        "      y_pred = (model(data))\r\n",
        "      predicted =np.array((y_pred).cpu().detach())\r\n",
        "      actual = np.array(labels[:].unsqueeze(1).cpu().detach())\r\n",
        "      for x in predicted:\r\n",
        "        predictedsV.append(np.argmax(x))\r\n",
        "      for x in actual:\r\n",
        "        actualsV.append(x)\r\n",
        "      \r\n",
        "      #lossezV[j*test_batch:(j+1)*test_batch] = (np.array(criterions(y_pred, labels.unsqueeze(1)).cpu().detach()))\r\n",
        "      one_hotV = torch.nn.functional.one_hot(labels.to(torch.int64),13)\r\n",
        "      lossV  = criterion(y_pred, one_hotV.to(torch.float))\r\n",
        "      lossesV = np.mean(np.array(lossV.cpu().detach()))\r\n",
        "      lossezV[j*train_batch:(j+1)*train_batch] = lossesV\r\n",
        "      j=j+1   \r\n",
        "      kia = 0\r\n",
        "      nahi = 0\r\n",
        "      \r\n",
        "      for kuch in actual:\r\n",
        "        if actual[kia] == np.argmax(predicted[kia]):\r\n",
        "          nahi += 1\r\n",
        "        kia += 1\r\n",
        "      accuracies = nahi/kia\r\n",
        "    \r\n",
        "    kia = 0\r\n",
        "    nahi = 0\r\n",
        "    \r\n",
        "    for kuch in actualsV:\r\n",
        "      if actualsV[kia][0] == predictedsV[kia]:\r\n",
        "        nahi += 1\r\n",
        "      kia += 1\r\n",
        "    accV = nahi/kia\r\n",
        "    \r\n",
        "\r\n",
        "  FinalLossTrain.append(np.mean(lossez)*100)\r\n",
        "  FinalLossValid.append(np.mean(lossezV)*100)\r\n",
        "  FinalAccTrain.append(acc)\r\n",
        "  FinalAccValid.append(accV)\r\n",
        "#     iterate over validation batches\r\n",
        "  if accV > lLoss:\r\n",
        "    torch.save(model, 'best_path_Adam.pth')\r\n",
        "    lLoss = accV\r\n",
        "\r\n",
        "  \r\n",
        "  #print(\"iteration end: \", check_for,\" accV: \", accV*100)\r\n",
        "  check_for += 1\r\n",
        "# plot losses vs epoch \r\n",
        "# ...\r\n",
        "# plt.show()\r\n",
        "plt.figure()\r\n",
        "plt.plot(FinalLossTrain, label='train loss')\r\n",
        "plt.plot(FinalLossValid, label='validation loss')\r\n",
        "plt.legend(loc=\"upper left\")\r\n",
        "#print(FinalLossTrain)\r\n",
        "#print(FinalLossValid)\r\n",
        "# plot accuracies vs epoch\r\n",
        "# ...\r\n",
        "# plt.show()\r\n",
        "plt.figure()\r\n",
        "plt.plot(FinalAccTrain, label='train acc')\r\n",
        "plt.plot(FinalAccValid, label='validation acc')\r\n",
        "plt.legend(loc=\"upper left\")\r\n"
      ],
      "execution_count": 70,
      "outputs": [
        {
          "output_type": "execute_result",
          "data": {
            "text/plain": [
              "<matplotlib.legend.Legend at 0x7f1034e1b358>"
            ]
          },
          "metadata": {
            "tags": []
          },
          "execution_count": 70
        },
        {
          "output_type": "display_data",
          "data": {
            "image/png": "[encoded data removed]",
            "text/plain": [
              "<Figure size 432x288 with 1 Axes>"
            ]
          },
          "metadata": {
            "tags": [],
            "needs_background": "light"
          }
        },
        {
          "output_type": "display_data",
          "data": {
            "image/png": "[encoded data removed]",
            "text/plain": [
              "<Figure size 432x288 with 1 Axes>"
            ]
          },
          "metadata": {
            "tags": [],
            "needs_background": "light"
          }
        }
      ]
    },
    {
      "cell_type": "code",
      "metadata": {
        "id": "WOPwsa9Hvq0D"
      },
      "source": [
        ""
      ],
      "execution_count": null,
      "outputs": []
    },
    {
      "cell_type": "code",
      "metadata": {
        "id": "3fr4WUpQCO5s",
        "colab": {
          "base_uri": "https://localhost:8080/",
          "height": 530
        },
        "outputId": "8f704bf1-bcd4-41b0-b3fe-1ce1604d0fb0"
      },
      "source": [
        "# HINT: note that your training time should not take many days.\r\n",
        "\r\n",
        "# TODO:\r\n",
        "# Pick your hyper parameters\r\n",
        "max_epoch = 700\r\n",
        "train_batch = 32\r\n",
        "test_batch = 32\r\n",
        "learning_rate = 0.0001\r\n",
        "\r\n",
        "use_gpu = torch.cuda.is_available()\r\n",
        "\r\n",
        "train_dataset, val_dataset, test_dataset, train_labels, val_labels, test_labels = get_dataset(\"data\", 2)\r\n",
        "# Create train dataset loader\r\n",
        "train_dataset = np.array(train_dataset)\r\n",
        "train_labels = np.array(train_labels)\r\n",
        "test_dataset = np.array(test_dataset)\r\n",
        "test_labels = np.array(test_labels)\r\n",
        "val_dataset = np.array(val_dataset)\r\n",
        "val_labels = np.array(val_labels)\r\n",
        "train_data = CatsDataset(train_dataset, train_labels)\r\n",
        "trainloader = DataLoader(train_data, batch_size=train_batch, shuffle=True)\r\n",
        "# Create validation dataset loader\r\n",
        "valid_data = CatsDataset(val_dataset, val_labels)\r\n",
        "val_loader = DataLoader(valid_data, batch_size=test_batch)\r\n",
        "# Create test dataset loader\r\n",
        "test_data = CatsDataset(test_dataset, test_labels)\r\n",
        "testloader = DataLoader(test_data, batch_size=test_batch)\r\n",
        "\r\n",
        "# initialize your network\r\n",
        "model = ConvNet()\r\n",
        "if use_gpu:\r\n",
        "  model.cuda()\r\n",
        "\r\n",
        "# define your loss function\r\n",
        "criterion = nn.MSELoss()\r\n",
        "\r\n",
        "optimizer = torch.optim.Adam(model.parameters(), lr=learning_rate, weight_decay=5e-03) # you can play with  weight_decay as well\r\n",
        "    \r\n",
        "# start training\r\n",
        "# for each epoch calculate validation performance\r\n",
        "# save best model according to validation performance\r\n",
        "\r\n",
        "lLoss = 0\r\n",
        "FinalLossTrain=[]\r\n",
        "FinalLossValid=[]\r\n",
        "FinalAccTrain=[]\r\n",
        "FinalAccValid=[]\r\n",
        "check_for = 0\r\n",
        "for epoch in range(max_epoch):\r\n",
        "  #print(\"iteration start: \", check_for)\r\n",
        "  ###############################################333\r\n",
        "  model=model.train()\r\n",
        "  j=0\r\n",
        "  \r\n",
        "  lossez = np.zeros(train_data.__len__())\r\n",
        "  predicteds=[]\r\n",
        "  actuals = []\r\n",
        "  for batch_idx, (data, labels) in enumerate(trainloader):\r\n",
        "    \r\n",
        "    if use_gpu:\r\n",
        "      data = data.cuda()\r\n",
        "    optimizer.zero_grad()\r\n",
        "    y_pred = model(data.permute(0, 3, 1, 2))\r\n",
        "    #y_pred = torch.max(y_pred)\r\n",
        "\r\n",
        "    one_hot = torch.nn.functional.one_hot(labels.to(torch.int64),13)\r\n",
        "    loss  = criterion(y_pred, one_hot.to(torch.float))\r\n",
        "    #loss  = criterion(y_pred, labels.unsqueeze(1))\r\n",
        "\r\n",
        "    loss.backward()\r\n",
        "    optimizer.step()\r\n",
        "    predicted = np.array((y_pred).cpu().detach())\r\n",
        "    actual = np.array(labels[:].unsqueeze(1).cpu().detach())\r\n",
        "    \r\n",
        "    kia = 0\r\n",
        "    nahi = 0\r\n",
        "    \r\n",
        "    for kuch in actual:     \r\n",
        "      if actual[kia] == np.argmax(predicted[kia]):\r\n",
        "        nahi += 1\r\n",
        "      kia += 1\r\n",
        "    accuracies = nahi/kia\r\n",
        "    losses = np.mean(np.array(loss.cpu().detach()))\r\n",
        "    \r\n",
        "    for x in predicted:\r\n",
        "      predicteds.append(np.argmax(x))\r\n",
        "    for x in actual:\r\n",
        "      actuals.append(x)\r\n",
        "    \r\n",
        "    #lossez[j*train_batch:(j+1)*train_batch] = (np.array(criterion(y_pred, labels.unsqueeze(1)).cpu().detach()))\r\n",
        "    lossez[j*train_batch:(j+1)*train_batch] = losses\r\n",
        "    j=j+1 \r\n",
        "\r\n",
        "  kia = 0\r\n",
        "  nahi = 0\r\n",
        "  #print(lossez)\r\n",
        "  for kuch in actuals:\r\n",
        "    if actuals[kia][0] == predicteds[kia]:\r\n",
        "      nahi += 1\r\n",
        "    kia += 1\r\n",
        "  acc = nahi/kia\r\n",
        "\r\n",
        "  #print(\"iteration end: \", check_for,\" acc: \", acc*100)\r\n",
        "  ########################################################\r\n",
        "#    iterate over training batches\r\n",
        "#    ...\r\n",
        "\r\n",
        "#    Validation\r\n",
        "  model = model.eval()\r\n",
        "  criterions = nn.MSELoss()\r\n",
        "  lossezV = np.zeros(valid_data.__len__())\r\n",
        "  predictedsV=[]\r\n",
        "  actualsV = []\r\n",
        "  j=0\r\n",
        "  with torch.no_grad():\r\n",
        "    for batch_idx, (data, labels) in enumerate(val_loader):\r\n",
        "      #print(labels)\r\n",
        "      y_pred = model(data.permute(0, 3, 1, 2))\r\n",
        "      predicted =np.array((y_pred).cpu().detach())\r\n",
        "      actual = np.array(labels[:].unsqueeze(1).cpu().detach())\r\n",
        "      for x in predicted:\r\n",
        "        predictedsV.append(np.argmax(x))\r\n",
        "      for x in actual:\r\n",
        "        actualsV.append(x)\r\n",
        "      \r\n",
        "\r\n",
        "      one_hotV = torch.nn.functional.one_hot(labels.to(torch.int64),13)\r\n",
        "      lossV  = criterion(y_pred, one_hotV.to(torch.float))\r\n",
        "      lossesV = np.mean(np.array(lossV.cpu().detach()))\r\n",
        "      lossezV[j*train_batch:(j+1)*train_batch] = lossesV\r\n",
        "\r\n",
        "      #lossezV[j*train_batch:(j+1)*train_batch] = (np.array(criterion(y_pred, labels.unsqueeze(1)).cpu().detach()))\r\n",
        "      j=j+1   \r\n",
        "      kia = 0\r\n",
        "      nahi = 0\r\n",
        "      \r\n",
        "      for kuch in actual:\r\n",
        "        if actual[kia] == np.argmax(predicted[kia]):\r\n",
        "          nahi += 1\r\n",
        "        kia += 1\r\n",
        "      accuracies = nahi/kia\r\n",
        "    \r\n",
        "    kia = 0\r\n",
        "    nahi = 0\r\n",
        "    \r\n",
        "    for kuch in actualsV:\r\n",
        "      if actualsV[kia][0] == predictedsV[kia]:\r\n",
        "        nahi += 1\r\n",
        "      kia += 1\r\n",
        "    accV = nahi/kia\r\n",
        "\r\n",
        "  FinalLossTrain.append(np.mean(lossez)*100)\r\n",
        "  FinalLossValid.append(np.mean(lossezV)*100)\r\n",
        "  FinalAccTrain.append(acc)\r\n",
        "  FinalAccValid.append(accV)\r\n",
        "#     iterate over validation batches\r\n",
        "  if accV > lLoss:\r\n",
        "    torch.save(model, 'best_path_cnn_Adam.pth')\r\n",
        "    lLoss = accV\r\n",
        "\r\n",
        "  \r\n",
        "  #print(\"iteration end: \", check_for,\" accV: \", accV*100)\r\n",
        "  check_for += 1\r\n",
        "# plot losses vs epoch \r\n",
        "# ...\r\n",
        "# plt.show()\r\n",
        "plt.figure()\r\n",
        "plt.plot(FinalLossTrain, label='train loss')\r\n",
        "plt.plot(FinalLossValid, label='validation loss')\r\n",
        "plt.legend(['Training loss', 'Validation Loss'],fontsize=10)\r\n",
        "#print(FinalLossTrain)\r\n",
        "#print(FinalLossValid)\r\n",
        "# plot accuracies vs epoch\r\n",
        "# ...\r\n",
        "# plt.show()\r\n",
        "plt.figure()\r\n",
        "plt.plot(FinalAccTrain, label='train acc')\r\n",
        "plt.plot(FinalAccValid, label='validation acc')\r\n",
        "plt.legend(['Training accuracy', 'Validation accuracy'],fontsize=10)\r\n",
        "\r\n",
        "# for epoch in range(max_epoch):\r\n",
        "#    model=model.train()\r\n",
        "#    iterate over training batches\r\n",
        "#    ...\r\n",
        "\r\n",
        "#    Validation\r\n",
        "#    model = model.eval()\r\n",
        "#    with torch.no_grad():\r\n",
        "#     iterate over validation batches\r\n",
        "#    if ???????:\r\n",
        "#       torch.save(model, best_path)\r\n",
        "\r\n",
        "# plot losses vs epoch \r\n",
        "# ...\r\n",
        "# plt.show()\r\n",
        "\r\n",
        "# plot accuracies vs epoch\r\n",
        "# ...\r\n",
        "# plt.show()\r\n"
      ],
      "execution_count": 65,
      "outputs": [
        {
          "output_type": "execute_result",
          "data": {
            "text/plain": [
              "<matplotlib.legend.Legend at 0x7f1034a8fda0>"
            ]
          },
          "metadata": {
            "tags": []
          },
          "execution_count": 65
        },
        {
          "output_type": "display_data",
          "data": {
            "image/png": "[encoded data removed]",
            "text/plain": [
              "<Figure size 432x288 with 1 Axes>"
            ]
          },
          "metadata": {
            "tags": [],
            "needs_background": "light"
          }
        },
        {
          "output_type": "display_data",
          "data": {
            "image/png": "[encoded data removed]",
            "text/plain": [
              "<Figure size 432x288 with 1 Axes>"
            ]
          },
          "metadata": {
            "tags": [],
            "needs_background": "light"
          }
        }
      ]
    },
    {
      "cell_type": "markdown",
      "metadata": {
        "id": "0iozVeXZAXiH"
      },
      "source": [
        "####Test with ADAM [15 pts.]\r\n",
        "\r\n",
        "Report the following for your best model on your test set which has not been seen by the model yet.\r\n",
        "1. A heatmap for confusion matrix\r\n",
        "2. Accuracy\r\n",
        "3. Macro Precision\r\n",
        "4. Macro Recall\r\n",
        "5. F1 Score\r\n",
        "\r\n",
        "Then, discuss figures that you have plotted in the previous section, your test results and algorithm complexity with maximum 200 words. Compare two **optimizers**. Which one is more preferable? Why?\r\n",
        "\r\n",
        "We observe that the plots show very abrupt changes. This might be due to high learning rate. For loss functions in MLP we see that we have some sudden peaks while in CNN we have ralatively straight lines for loss functions. Accuracies for both models change very abtuptly without showing much of a pattern. Therefore it seems like SGD optimizer is working better as compared to ADAM. Now discussing the results we see that for all of the metrics i-e accuracy, presicion, recall and F1 score, MLP model is performing better as compared to CNN model. However when we see confusion matrix we see that the predictions of CNN model are more scattered as compared to MLP model. Moreover CNN takes more time for execution as compared to MLP training. For optimizers as discussed earlier SGD seems to work better."
      ]
    },
    {
      "cell_type": "code",
      "metadata": {
        "id": "yMj89kUtCR0F",
        "colab": {
          "base_uri": "https://localhost:8080/",
          "height": 436
        },
        "outputId": "3ed77655-5d1b-42dd-ba36-9cf81c66fd2d"
      },
      "source": [
        "# Test MLP\r\n",
        "# load best model\r\n",
        "best_path = \"best_path_Adam.pth\"\r\n",
        "model = torch.load(best_path)\r\n",
        "\r\n",
        "# evaluate on test set\r\n",
        "model = model.eval()\r\n",
        "\r\n",
        "criterions = nn.MSELoss()\r\n",
        "lossezZ = np.zeros(test_data.__len__())\r\n",
        "predictedsZ=[]\r\n",
        "actualsZ = []\r\n",
        "j=0\r\n",
        "with torch.no_grad():\r\n",
        "  for batch_idx, (data, labels) in enumerate(testloader):\r\n",
        "    #print(labels)\r\n",
        "    y_pred = (model(data))\r\n",
        "    predicted =np.array((y_pred).cpu().detach())\r\n",
        "    actual = np.array(labels[:].unsqueeze(1).cpu().detach())\r\n",
        "    for x in predicted:\r\n",
        "      predictedsZ.append(np.argmax(x))\r\n",
        "    for x in actual:\r\n",
        "      actualsZ.append(x)\r\n",
        "    \r\n",
        "    #lossezZ.append(np.array(criterions(y_pred, labels.unsqueeze(1)).cpu().detach()))\r\n",
        "    one_hotZ = torch.nn.functional.one_hot(labels.to(torch.int64),13)\r\n",
        "    lossZ  = criterion(y_pred, one_hotZ.to(torch.float))\r\n",
        "    lossesZ = np.mean(np.array(lossZ.cpu().detach()))\r\n",
        "    lossezZ[j*train_batch:(j+1)*train_batch] = lossesZ\r\n",
        "    j=j+1   \r\n",
        "    kia = 0\r\n",
        "    nahi = 0\r\n",
        "    \r\n",
        "    for kuch in actual:\r\n",
        "      if actual[kia] == np.argmax(predicted[kia]):\r\n",
        "        nahi += 1\r\n",
        "      kia += 1\r\n",
        "    accuracies = nahi/kia\r\n",
        "  \r\n",
        "  kia = 0\r\n",
        "  nahi = 0\r\n",
        "  \r\n",
        "  for kuch in actualsZ:\r\n",
        "    if actualsZ[kia][0] == predictedsZ[kia]:\r\n",
        "      nahi += 1\r\n",
        "    kia += 1\r\n",
        "  accZ = nahi/kia\r\n",
        "\r\n",
        "  \r\n",
        "  conf_matrix = (confusion_matrix(actualsZ, predictedsZ))\r\n",
        "  acc = accuracy_score(actualsZ, predictedsZ) *100\r\n",
        "  pre = precision_score(actualsZ, predictedsZ,average='macro') *100\r\n",
        "  recall = recall_score(actualsZ, predictedsZ,average='macro') *100\r\n",
        "  f1 = f1_score(actualsZ, predictedsZ,average='macro') *100\r\n",
        "  lossesd = np.mean(lossezZ)\r\n",
        "  #print(metrics.classification_report(actualsZ, predictedsZ, digits=3))\r\n",
        "  # print(\"confusion matrix: \",dd)\r\n",
        "  # print(\"f1 score: \",f1_score(actualsZ, predictedsZ,average='macro') *100) \r\n",
        "  # print(\"macro prescion: \",precision_score(actualsZ, predictedsZ,average='macro') *100)\r\n",
        "  # print(\"macro recall: \",recall_score(actualsZ, predictedsZ,average='macro') *100)\r\n",
        "  # print(\"accuracy: \",accuracy_score(actualsZ, predictedsZ) *100)\r\n",
        "  #print(\"nahi\",nahi)\r\n",
        "  #print(\"loader len\",val_loader.__len__())\r\n",
        "  #print(\"act\",actualsV)\r\n",
        "  #print(\"pre\",predictedsV)\r\n",
        "  \r\n",
        "#   iterate over test batches\r\n",
        "#   get confusion matrix\r\n",
        "#   calculate accuracy\r\n",
        "#   calculate precision\r\n",
        "#   calculate recall\r\n",
        "#   calculate F1 score\r\n",
        "\r\n",
        "# print metrics\r\n",
        "print(\"Mean Loss:\", lossesd, \"\\nMean Acc:\", acc,\"\\nMean Macro Precision:\", pre, \"\\nMean Macro Recall:\", recall, \"\\nMean Macro F1 Score:\", f1) \r\n",
        "\r\n",
        "# plot confusion matrix\r\n",
        "fig, ax = plt.subplots()\r\n",
        "im = ax.imshow(conf_matrix)\r\n",
        "# We want to show all ticks...\r\n",
        "ax.set_xticks(np.arange(15))\r\n",
        "ax.set_yticks(np.arange(15))\r\n",
        "\r\n",
        "fig.tight_layout()\r\n",
        "plt.show()"
      ],
      "execution_count": 71,
      "outputs": [
        {
          "output_type": "stream",
          "text": [
            "/usr/local/lib/python3.6/dist-packages/sklearn/metrics/_classification.py:1272: UndefinedMetricWarning: Precision is ill-defined and being set to 0.0 in labels with no predicted samples. Use `zero_division` parameter to control this behavior.\n",
            "  _warn_prf(average, modifier, msg_start, len(result))\n"
          ],
          "name": "stderr"
        },
        {
          "output_type": "stream",
          "text": [
            "Mean Loss: 0.07153872164625154 \n",
            "Mean Acc: 9.194699286442406 \n",
            "Mean Macro Precision: 1.411809898279524 \n",
            "Mean Macro Recall: 9.091371766685523 \n",
            "Mean Macro F1 Score: 2.4435024435024433\n"
          ],
          "name": "stdout"
        },
        {
          "output_type": "display_data",
          "data": {
            "image/png": "[encoded data removed]",
            "text/plain": [
              "<Figure size 432x288 with 1 Axes>"
            ]
          },
          "metadata": {
            "tags": [],
            "needs_background": "light"
          }
        }
      ]
    },
    {
      "cell_type": "code",
      "metadata": {
        "id": "_t27l0hN9FqS",
        "colab": {
          "base_uri": "https://localhost:8080/",
          "height": 436
        },
        "outputId": "f331c3d7-d743-4498-d1b5-0ab5fa5f21b2"
      },
      "source": [
        "# Test CNN\r\n",
        "# load best model\r\n",
        "best_path = \"best_path_cnn_Adam.pth\"\r\n",
        "model = torch.load(best_path)\r\n",
        "\r\n",
        "# evaluate on test set\r\n",
        "# model = model.eval()\r\n",
        "model = model.eval()\r\n",
        "\r\n",
        "criterions = nn.MSELoss()\r\n",
        "lossezZZ = np.zeros(test_data.__len__())\r\n",
        "predictedsZZ=[]\r\n",
        "actualsZZ = []\r\n",
        "j=0\r\n",
        "with torch.no_grad():\r\n",
        "  for batch_idx, (data, labels) in enumerate(testloader):\r\n",
        "    #print(labels)\r\n",
        "    y_pred = model(data.permute(0, 3, 1, 2))\r\n",
        "    predicted =np.array((y_pred).cpu().detach())\r\n",
        "    actual = np.array(labels[:].unsqueeze(1).cpu().detach())\r\n",
        "    for x in predicted:\r\n",
        "      predictedsZZ.append(np.argmax(x))\r\n",
        "    for x in actual:\r\n",
        "      actualsZZ.append(x)\r\n",
        "    #print(\"y_p: \",y_pred.cpu().detach())\r\n",
        "    #print(\"predicted: \",predicted)\r\n",
        "    \r\n",
        "    # print(criterions(y_pred, labels.unsqueeze(1)))\r\n",
        "    \r\n",
        "    #lossezZZ.append(np.array(criterions(y_pred, labels.unsqueeze(1)).cpu().detach()))\r\n",
        "    one_hotZZ = torch.nn.functional.one_hot(labels.to(torch.int64),13)\r\n",
        "    lossZZ  = criterion(y_pred, one_hotZZ.to(torch.float))\r\n",
        "    lossesZZ = np.mean(np.array(lossZZ.cpu().detach()))\r\n",
        "    lossezZZ[j*train_batch:(j+1)*train_batch] = lossesZZ\r\n",
        "    \r\n",
        "    j=j+1   \r\n",
        "    kia = 0\r\n",
        "    nahi = 0\r\n",
        "    \r\n",
        "    for kuch in actual:\r\n",
        "      if actual[kia] == np.argmax(predicted[kia]):\r\n",
        "        nahi += 1\r\n",
        "      kia += 1\r\n",
        "    accuracies = nahi/kia\r\n",
        "  \r\n",
        "  kia = 0\r\n",
        "  nahi = 0\r\n",
        "  \r\n",
        "  for kuch in actualsZZ:\r\n",
        "    if actualsZZ[kia][0] == predictedsZZ[kia]:\r\n",
        "      #print(\"act: \",actualsV[kia][0])\r\n",
        "      #print(\"pre: \",predictedsV[kia][0])\r\n",
        "      nahi += 1\r\n",
        "    #print(\"-----------------\")\r\n",
        "    kia += 1\r\n",
        "  accZZ = nahi/kia\r\n",
        "  #print(\"accuracy \",accZZ*100)\r\n",
        "  dd = (confusion_matrix(actualsZZ, predictedsZZ))\r\n",
        "  acc = accuracy_score(actualsZZ, predictedsZZ) *100\r\n",
        "  pre = precision_score(actualsZZ, predictedsZZ,average='macro') *100\r\n",
        "  recall = recall_score(actualsZZ, predictedsZZ,average='macro') *100\r\n",
        "  f1 = f1_score(actualsZZ, predictedsZZ,average='macro') *100\r\n",
        "  lossesd = np.mean(lossezZZ)\r\n",
        "  # print(metrics.classification_report(actualsZ, predictedsZ, digits=3))\r\n",
        "  # print(\"confusion matrix: \",dd)\r\n",
        "  # print(\"f1 score: \",f1_score(actualsZ, predictedsZ,average='macro') *100) \r\n",
        "  # print(\"macro prescion: \",precision_score(actualsZ, predictedsZ,average='macro') *100)\r\n",
        "  # print(\"macro recall: \",recall_score(actualsZ, predictedsZ,average='macro') *100)\r\n",
        "  # print(\"accuracy: \",accuracy_score(actualsZ, predictedsZ) *100)\r\n",
        "#   iterate over test batches\r\n",
        "#   get confusion matrix\r\n",
        "#   calculate accuracy\r\n",
        "#   calculate precision\r\n",
        "#   calculate recall\r\n",
        "#   calculate F1 score\r\n",
        "\r\n",
        "# print metrics\r\n",
        "print(\"Mean Loss:\", lossesd, \"\\nMean Acc:\", acc,\"\\nMean Macro Precision:\", pre, \"\\nMean Macro Recall:\", recall, \"\\nMean Macro F1 Score:\", f1) \r\n",
        "\r\n",
        "# plot confusion matrix\r\n",
        "fig, ax = plt.subplots()\r\n",
        "im = ax.imshow(conf_matrix)\r\n",
        "#We want to show all ticks...\r\n",
        "ax.set_xticks(np.arange(15))\r\n",
        "ax.set_yticks(np.arange(15))\r\n",
        "\r\n",
        "fig.tight_layout()\r\n",
        "plt.show()"
      ],
      "execution_count": 66,
      "outputs": [
        {
          "output_type": "stream",
          "text": [
            "Mean Loss: 0.0710065626542138 \n",
            "Mean Acc: 7.543323139653414 \n",
            "Mean Macro Precision: 0.5802556261271857 \n",
            "Mean Macro Recall: 7.6923076923076925 \n",
            "Mean Macro F1 Score: 1.0791104629967188\n"
          ],
          "name": "stdout"
        },
        {
          "output_type": "stream",
          "text": [
            "/usr/local/lib/python3.6/dist-packages/sklearn/metrics/_classification.py:1272: UndefinedMetricWarning: Precision is ill-defined and being set to 0.0 in labels with no predicted samples. Use `zero_division` parameter to control this behavior.\n",
            "  _warn_prf(average, modifier, msg_start, len(result))\n"
          ],
          "name": "stderr"
        },
        {
          "output_type": "display_data",
          "data": {
            "image/png": "[encoded data removed]",
            "text/plain": [
              "<Figure size 432x288 with 1 Axes>"
            ]
          },
          "metadata": {
            "tags": [],
            "needs_background": "light"
          }
        }
      ]
    },
    {
      "cell_type": "code",
      "metadata": {
        "id": "QvLrfbhvFgvj"
      },
      "source": [
        ""
      ],
      "execution_count": null,
      "outputs": []
    }
  ]
}